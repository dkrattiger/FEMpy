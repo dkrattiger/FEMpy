{
 "cells": [
  {
   "cell_type": "code",
   "execution_count": 1,
   "metadata": {
    "scrolled": false
   },
   "outputs": [
    {
     "name": "stdout",
     "output_type": "stream",
     "text": [
      "Once deleted, variables cannot be recovered. Proceed (y/[n])? y\n"
     ]
    }
   ],
   "source": [
    "%reset\n",
    "%load_ext autoreload\n",
    "%autoreload 2\n",
    "%matplotlib notebook\n",
    "#%matplotlib inline  \n",
    "#%matplotlib\n",
    "#matplotlib qt\n",
    "#from matplotlib import pyplot as plt\n",
    "import matplotlib\n",
    "import matplotlib.pyplot as plt\n",
    "import numpy as np"
   ]
  },
  {
   "cell_type": "code",
   "execution_count": null,
   "metadata": {
    "scrolled": true
   },
   "outputs": [],
   "source": [
    "#from mesh2D import mesh2DInclusion\n",
    "from mesh2D import SquareWithInclusion\n",
    "n = 2\n",
    "mrl = 3\n",
    "coords, emat, colorvec = SquareWithInclusion(mrl,n,[])\n",
    "\n",
    "N = n+1;\n",
    "i_perim = np.concatenate(\n",
    "    (np.arange(0,N-1),\n",
    "    np.arange(N-1, N**2-1, N),\n",
    "    np.arange(N**2-1, N**2-N, -1),\n",
    "    np.arange(N**2-n-1,N-1,-N)))\n",
    "\n",
    "from mesh2D import plotmesh\n",
    "\n",
    "plotmesh(coords,emat[:,i_perim],colorvec)\n",
    "\n",
    "for i in emat[200,:]:\n",
    "    plt.text(coords[i,0],coords[i,1],str(i))\n",
    "    \n",
    "print(emat[200,:])"
   ]
  },
  {
   "cell_type": "code",
   "execution_count": null,
   "metadata": {
    "scrolled": true
   },
   "outputs": [],
   "source": [
    "import numpy as np\n",
    "from scipy.sparse import lil_matrix\n",
    "from scipy.sparse.linalg import spsolve\n",
    "#n = np.sqrt(np.shape(emat)[1]) + 1\n",
    "\n",
    "\n",
    "# fix boundaries\n",
    "ifix1 = abs(0.5-abs(coords[:,0]))<1e-6\n",
    "ifix2 = abs(0.5-abs(coords[:,1]))<1e-6\n",
    "ifix3 = abs(np.sqrt(np.sum(coords**2,axis=1))-0.25)<1e-6\n",
    "ifix = np.vstack((ifix1 | ifix2 ,ifix1 | ifix2)) | np.vstack((ifix3,ifix3))\n",
    "ifix = np.reshape(ifix,(np.size(ifix),1),'F')\n",
    "inotfix = np.where(np.logical_not(ifix))[0]\n",
    "\n",
    "\n",
    "\n",
    "\n",
    "Kmini = np.array([[1,-1],[-1,1]])\n",
    "kspring = 1\n",
    "L0 = 0.1\n",
    "\n",
    "\n",
    "# DOF per node\n",
    "dpn = 2\n",
    "    \n",
    "coords2 = np.copy(coords)\n",
    "n_steps = 3\n",
    "for qq in range(0,n_steps):\n",
    "    \n",
    "    # preallocate stiffness matrix and force vectors\n",
    "    #K = np.zeros((2*np.shape(coords)[0],2*np.shape(coords)[0]))\n",
    "    f = np.zeros((2*np.shape(coords)[0]))\n",
    "    K = lil_matrix((2*np.shape(coords)[0],2*np.shape(coords)[0]))\n",
    "    \n",
    "    for ii in range(0,np.shape(emat)[0]):\n",
    "\n",
    "        emati = np.reshape(emat[ii,:],(n+1,n+1))\n",
    "        for jj in range(0,n):\n",
    "            for kk in range(0,n):\n",
    "                quadjk = emati[jj:(jj+2),kk:(kk+2)].flatten()\n",
    "                \n",
    "                for mm in range(0,4):\n",
    "                    for nn in range(0,4):\n",
    "\n",
    "                        if nn>mm:\n",
    "\n",
    "                            # global indices of nodes 1 and 2\n",
    "                            i1 = quadjk[mm]\n",
    "                            i2 = quadjk[nn]\n",
    "\n",
    "                            # coordinates of nodes 1 and 2\n",
    "                            x1 = coords2[i1,0]\n",
    "                            y1 = coords2[i1,1]\n",
    "                            x2 = coords2[i2,0]\n",
    "                            y2 = coords2[i2,1]\n",
    "\n",
    "                            # length of \"spring\" connecting nodes 1 and 2\n",
    "                            L = np.sqrt((x2-x1)**2 + (y2-y1)**2)\n",
    "\n",
    "                            # spring cosine and sine (for transforming stiffness to global)\n",
    "                            c = (x2-x1)/L\n",
    "                            s = (y2-y1)/L\n",
    "\n",
    "                            # coordinate transformation from spring to global\n",
    "                            T = np.array([[c,s,0,0],[0,0,c,s]])\n",
    "                            Kspring = kspring*np.dot(\n",
    "                                    np.dot(np.transpose(T),Kmini),\n",
    "                                    T)\n",
    "\n",
    "                            # if it's a diagonal spring, make it a little weaker\n",
    "                            if (mm == 1 & nn == 2) | (mm == 0 & nn == 3):\n",
    "                                kspring = 1#/sqrt(2)\n",
    "                                #L0mult = sqrt(2)\n",
    "                            else:\n",
    "                                kspring = 1\n",
    "                                #L0mult = 1\n",
    "\n",
    "\n",
    "                            # index of DOFs associated with current spring\n",
    "                            index = [2*i1,2*i1-1,2*i2]\n",
    "                            index = np.concatenate((np.arange(dpn*i1,dpn*(i1+1)),\n",
    "                                                   np.arange(dpn*i2,dpn*(i2+1))),\n",
    "                                                   axis=0)\n",
    "\n",
    "                            # add current spring's stiffness into master stiffness\n",
    "                            K[index[:,None],index] = K[index[:,None],index] + kspring*Kspring\n",
    "\n",
    "                            # assume initial spring length is L0 and spring is stretched into\n",
    "                            # current configuration. Compute the resulting force on the nodes\n",
    "                            # due to the springs.\n",
    "                            #fint = (L-L0*L0mult)*kspring*np.array([[1],[-1]])\n",
    "                            fint = (L*(1/n_steps))*kspring*np.array([[1],[-1]])\n",
    "\n",
    "                            # transform to global coordinates\n",
    "                            fspring = np.dot(np.transpose(T),fint)\n",
    "\n",
    "                            # add spring's contribution to master force vector\n",
    "                            f[index[:,None]] = f[index[:,None]] + fspring\n",
    "    \n",
    "\n",
    "    Kfix = K[inotfix[:,None],inotfix]\n",
    "    ffix = f[inotfix]\n",
    "    \n",
    "    d = np.zeros(np.shape(f))\n",
    "    d[inotfix] = spsolve(Kfix.tocsr(),ffix)\n",
    "    d = np.reshape(d,np.shape(coords))\n",
    "    coords2 = coords2 + d\n",
    "    print(qq)\n",
    "                        \n",
    "# plot relaxed mesh \n",
    "plotmesh(coords2,emat[:,i_perim],colorvec)"
   ]
  },
  {
   "cell_type": "code",
   "execution_count": 28,
   "metadata": {
    "scrolled": false
   },
   "outputs": [
    {
     "ename": "LinAlgError",
     "evalue": "Singular matrix",
     "output_type": "error",
     "traceback": [
      "\u001b[0;31m---------------------------------------------------------------------------\u001b[0m",
      "\u001b[0;31mLinAlgError\u001b[0m                               Traceback (most recent call last)",
      "\u001b[0;32m<ipython-input-28-f73c0d727977>\u001b[0m in \u001b[0;36m<module>\u001b[0;34m()\u001b[0m\n\u001b[1;32m      6\u001b[0m \u001b[0;32mfrom\u001b[0m \u001b[0mmesh2D\u001b[0m \u001b[0;32mimport\u001b[0m \u001b[0mQuadPlaneStrain\u001b[0m\u001b[0;34m\u001b[0m\u001b[0m\n\u001b[1;32m      7\u001b[0m \u001b[0;34m\u001b[0m\u001b[0m\n\u001b[0;32m----> 8\u001b[0;31m \u001b[0mKe\u001b[0m\u001b[0;34m,\u001b[0m\u001b[0mMe\u001b[0m \u001b[0;34m=\u001b[0m \u001b[0mQuadPlaneStrain\u001b[0m\u001b[0;34m(\u001b[0m\u001b[0mxy\u001b[0m\u001b[0;34m,\u001b[0m\u001b[0mD\u001b[0m\u001b[0;34m,\u001b[0m\u001b[0mrho\u001b[0m\u001b[0;34m)\u001b[0m\u001b[0;34m\u001b[0m\u001b[0m\n\u001b[0m",
      "\u001b[0;32m~/Documents/Python/Research Boulder/FEM/mesh2D.py\u001b[0m in \u001b[0;36mQuadPlaneStrain\u001b[0;34m(X, D, rho)\u001b[0m\n\u001b[1;32m    434\u001b[0m             \u001b[0mJ\u001b[0m \u001b[0;34m=\u001b[0m \u001b[0mnp\u001b[0m\u001b[0;34m.\u001b[0m\u001b[0mdot\u001b[0m\u001b[0;34m(\u001b[0m\u001b[0mnp\u001b[0m\u001b[0;34m.\u001b[0m\u001b[0mvstack\u001b[0m\u001b[0;34m(\u001b[0m\u001b[0;34m(\u001b[0m\u001b[0mdNdz\u001b[0m\u001b[0;34m,\u001b[0m \u001b[0mdNde\u001b[0m\u001b[0;34m)\u001b[0m\u001b[0;34m)\u001b[0m\u001b[0;34m,\u001b[0m \u001b[0mX\u001b[0m\u001b[0;34m)\u001b[0m\u001b[0;34m\u001b[0m\u001b[0m\n\u001b[1;32m    435\u001b[0m             \u001b[0mJdet\u001b[0m \u001b[0;34m=\u001b[0m \u001b[0mnp\u001b[0m\u001b[0;34m.\u001b[0m\u001b[0mlinalg\u001b[0m\u001b[0;34m.\u001b[0m\u001b[0mdet\u001b[0m\u001b[0;34m(\u001b[0m\u001b[0mJ\u001b[0m\u001b[0;34m)\u001b[0m\u001b[0;34m\u001b[0m\u001b[0m\n\u001b[0;32m--> 436\u001b[0;31m             \u001b[0mJinv\u001b[0m \u001b[0;34m=\u001b[0m \u001b[0mnp\u001b[0m\u001b[0;34m.\u001b[0m\u001b[0mlinalg\u001b[0m\u001b[0;34m.\u001b[0m\u001b[0minv\u001b[0m\u001b[0;34m(\u001b[0m\u001b[0mJ\u001b[0m\u001b[0;34m)\u001b[0m\u001b[0;34m\u001b[0m\u001b[0m\n\u001b[0m\u001b[1;32m    437\u001b[0m \u001b[0;34m\u001b[0m\u001b[0m\n\u001b[1;32m    438\u001b[0m             \u001b[0;31m# compute dNdx and dNdy\u001b[0m\u001b[0;34m\u001b[0m\u001b[0;34m\u001b[0m\u001b[0m\n",
      "\u001b[0;32m~/anaconda3/lib/python3.6/site-packages/numpy/linalg/linalg.py\u001b[0m in \u001b[0;36minv\u001b[0;34m(a)\u001b[0m\n\u001b[1;32m    511\u001b[0m     \u001b[0msignature\u001b[0m \u001b[0;34m=\u001b[0m \u001b[0;34m'D->D'\u001b[0m \u001b[0;32mif\u001b[0m \u001b[0misComplexType\u001b[0m\u001b[0;34m(\u001b[0m\u001b[0mt\u001b[0m\u001b[0;34m)\u001b[0m \u001b[0;32melse\u001b[0m \u001b[0;34m'd->d'\u001b[0m\u001b[0;34m\u001b[0m\u001b[0m\n\u001b[1;32m    512\u001b[0m     \u001b[0mextobj\u001b[0m \u001b[0;34m=\u001b[0m \u001b[0mget_linalg_error_extobj\u001b[0m\u001b[0;34m(\u001b[0m\u001b[0m_raise_linalgerror_singular\u001b[0m\u001b[0;34m)\u001b[0m\u001b[0;34m\u001b[0m\u001b[0m\n\u001b[0;32m--> 513\u001b[0;31m     \u001b[0mainv\u001b[0m \u001b[0;34m=\u001b[0m \u001b[0m_umath_linalg\u001b[0m\u001b[0;34m.\u001b[0m\u001b[0minv\u001b[0m\u001b[0;34m(\u001b[0m\u001b[0ma\u001b[0m\u001b[0;34m,\u001b[0m \u001b[0msignature\u001b[0m\u001b[0;34m=\u001b[0m\u001b[0msignature\u001b[0m\u001b[0;34m,\u001b[0m \u001b[0mextobj\u001b[0m\u001b[0;34m=\u001b[0m\u001b[0mextobj\u001b[0m\u001b[0;34m)\u001b[0m\u001b[0;34m\u001b[0m\u001b[0m\n\u001b[0m\u001b[1;32m    514\u001b[0m     \u001b[0;32mreturn\u001b[0m \u001b[0mwrap\u001b[0m\u001b[0;34m(\u001b[0m\u001b[0mainv\u001b[0m\u001b[0;34m.\u001b[0m\u001b[0mastype\u001b[0m\u001b[0;34m(\u001b[0m\u001b[0mresult_t\u001b[0m\u001b[0;34m,\u001b[0m \u001b[0mcopy\u001b[0m\u001b[0;34m=\u001b[0m\u001b[0;32mFalse\u001b[0m\u001b[0;34m)\u001b[0m\u001b[0;34m)\u001b[0m\u001b[0;34m\u001b[0m\u001b[0m\n\u001b[1;32m    515\u001b[0m \u001b[0;34m\u001b[0m\u001b[0m\n",
      "\u001b[0;32m~/anaconda3/lib/python3.6/site-packages/numpy/linalg/linalg.py\u001b[0m in \u001b[0;36m_raise_linalgerror_singular\u001b[0;34m(err, flag)\u001b[0m\n\u001b[1;32m     88\u001b[0m \u001b[0;34m\u001b[0m\u001b[0m\n\u001b[1;32m     89\u001b[0m \u001b[0;32mdef\u001b[0m \u001b[0m_raise_linalgerror_singular\u001b[0m\u001b[0;34m(\u001b[0m\u001b[0merr\u001b[0m\u001b[0;34m,\u001b[0m \u001b[0mflag\u001b[0m\u001b[0;34m)\u001b[0m\u001b[0;34m:\u001b[0m\u001b[0;34m\u001b[0m\u001b[0m\n\u001b[0;32m---> 90\u001b[0;31m     \u001b[0;32mraise\u001b[0m \u001b[0mLinAlgError\u001b[0m\u001b[0;34m(\u001b[0m\u001b[0;34m\"Singular matrix\"\u001b[0m\u001b[0;34m)\u001b[0m\u001b[0;34m\u001b[0m\u001b[0m\n\u001b[0m\u001b[1;32m     91\u001b[0m \u001b[0;34m\u001b[0m\u001b[0m\n\u001b[1;32m     92\u001b[0m \u001b[0;32mdef\u001b[0m \u001b[0m_raise_linalgerror_nonposdef\u001b[0m\u001b[0;34m(\u001b[0m\u001b[0merr\u001b[0m\u001b[0;34m,\u001b[0m \u001b[0mflag\u001b[0m\u001b[0;34m)\u001b[0m\u001b[0;34m:\u001b[0m\u001b[0;34m\u001b[0m\u001b[0m\n",
      "\u001b[0;31mLinAlgError\u001b[0m: Singular matrix"
     ]
    }
   ],
   "source": [
    "import math\n",
    "\n",
    "xy = np.zeros((9,2))\n",
    "D = np.zeros((3,3))\n",
    "rho = 100\n",
    "from mesh2D import QuadPlaneStrain\n",
    "\n",
    "Ke,Me = QuadPlaneStrain(xy,D,rho)\n"
   ]
  },
  {
   "cell_type": "code",
   "execution_count": 17,
   "metadata": {
    "scrolled": false
   },
   "outputs": [
    {
     "name": "stdout",
     "output_type": "stream",
     "text": [
      "range(0, 5)\n"
     ]
    }
   ],
   "source": [
    "print(range(0,5))\n"
   ]
  }
 ],
 "metadata": {
  "kernelspec": {
   "display_name": "Python 3",
   "language": "python",
   "name": "python3"
  },
  "language_info": {
   "codemirror_mode": {
    "name": "ipython",
    "version": 3
   },
   "file_extension": ".py",
   "mimetype": "text/x-python",
   "name": "python",
   "nbconvert_exporter": "python",
   "pygments_lexer": "ipython3",
   "version": "3.6.3"
  }
 },
 "nbformat": 4,
 "nbformat_minor": 2
}
